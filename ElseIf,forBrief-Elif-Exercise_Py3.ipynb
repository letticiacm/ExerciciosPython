{
 "cells": [
  {
   "cell_type": "markdown",
   "metadata": {},
   "source": [
    "## Else if, for Brief - ELIF"
   ]
  },
  {
   "cell_type": "markdown",
   "metadata": {},
   "source": [
    "Assign 200 to x.\n",
    "Create the following piece of code:\n",
    "If x > 200, print out \"Big\"; \n",
    "If x > 100 and x <= 200, print out \"Average\"; \n",
    "and If x <= 100, print out \"Small\".\n",
    "Use the If, Elif, and Else keywords in your code."
   ]
  },
  {
   "cell_type": "code",
   "execution_count": 7,
   "metadata": {},
   "outputs": [
    {
     "name": "stdout",
     "output_type": "stream",
     "text": [
      "Small\n"
     ]
    }
   ],
   "source": [
    "x = 45\n",
    "\n",
    "if x > 200:\n",
    "    print (\"Big\")\n",
    "    \n",
    "elif x > 100 and x <= 200: \n",
    "    print (\"Average\")\n",
    "    \n",
    "else :\n",
    "    print (\"Small\")\n",
    "    \n",
    "    \n",
    "  "
   ]
  },
  {
   "cell_type": "markdown",
   "metadata": {},
   "source": [
    "Change the initial value of x to see how your output will vary."
   ]
  },
  {
   "cell_type": "markdown",
   "metadata": {},
   "source": [
    "******"
   ]
  },
  {
   "cell_type": "markdown",
   "metadata": {},
   "source": [
    "Keep the first two conditions of the previous code. Add a new ELIF statement, so that, eventually, the program prints \"Small\" if x >= 0 and x <= 100, and \"Negative\" if x < 0. \n",
    "Let x carry the value of 50 and then of -50 to check if your code is correct."
   ]
  },
  {
   "cell_type": "code",
   "execution_count": 8,
   "metadata": {},
   "outputs": [
    {
     "name": "stdout",
     "output_type": "stream",
     "text": [
      "Small\n"
     ]
    }
   ],
   "source": [
    "x = 50\n",
    "\n",
    "\n",
    "if x > 200:\n",
    "    print (\"Big\")    \n",
    "\n",
    "elif x > 100 and x <= 200: \n",
    "    print (\"Average\")\n",
    "    \n",
    "elif x >= 0 and x <= 100:\n",
    "    print (\"Small\")\n",
    "    \n",
    "else  :\n",
    "    print (\"Negative\")\n",
    "    \n"
   ]
  },
  {
   "cell_type": "code",
   "execution_count": 9,
   "metadata": {},
   "outputs": [
    {
     "name": "stdout",
     "output_type": "stream",
     "text": [
      "Negative\n"
     ]
    }
   ],
   "source": [
    "x = -50\n",
    "\n",
    "\n",
    "if x > 200:\n",
    "    print (\"Big\")    \n",
    "\n",
    "elif x > 100 and x <= 200: \n",
    "    print (\"Average\")\n",
    "    \n",
    "elif x >= 0 and x <= 100:\n",
    "    print (\"Small\")\n",
    "    \n",
    "else  :\n",
    "    print (\"Negative\")\n",
    "    \n"
   ]
  },
  {
   "cell_type": "code",
   "execution_count": null,
   "metadata": {},
   "outputs": [],
   "source": []
  }
 ],
 "metadata": {
  "anaconda-cloud": {},
  "kernelspec": {
   "display_name": "Python 3 (ipykernel)",
   "language": "python",
   "name": "python3"
  },
  "language_info": {
   "codemirror_mode": {
    "name": "ipython",
    "version": 3
   },
   "file_extension": ".py",
   "mimetype": "text/x-python",
   "name": "python",
   "nbconvert_exporter": "python",
   "pygments_lexer": "ipython3",
   "version": "3.10.9"
  }
 },
 "nbformat": 4,
 "nbformat_minor": 1
}
